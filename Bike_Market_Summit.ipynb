{
  "nbformat": 4,
  "nbformat_minor": 0,
  "metadata": {
    "colab": {
      "provenance": [],
      "authorship_tag": "ABX9TyPuxFU08pfkwSGzpCnScOKV",
      "include_colab_link": true
    },
    "kernelspec": {
      "name": "python3",
      "display_name": "Python 3"
    },
    "language_info": {
      "name": "python"
    }
  },
  "cells": [
    {
      "cell_type": "markdown",
      "metadata": {
        "id": "view-in-github",
        "colab_type": "text"
      },
      "source": [
        "<a href=\"https://colab.research.google.com/github/ryan-saloma/bike-market-summit/blob/main/Bike_Market_Summit.ipynb\" target=\"_parent\"><img src=\"https://colab.research.google.com/assets/colab-badge.svg\" alt=\"Open In Colab\"/></a>"
      ]
    },
    {
      "cell_type": "code",
      "execution_count": 103,
      "metadata": {
        "id": "J27nsnPRNHD3"
      },
      "outputs": [],
      "source": [
        "%pip install -U googlemaps\n",
        "\n",
        "import googlemaps as gm\n",
        "import requests\n",
        "import pandas as pd\n",
        "import plotly\n",
        "import plotly.express as px\n",
        "\n",
        "gmaps = gm.Client(key='XXXXXXXXXXXXXXXXX')\n",
        "\n",
        "# First get location of Summit, NJ\n",
        "def get_coordinates_from_address(address, api_key):\n",
        "    url = 'https://maps.googleapis.com/maps/api/geocode/json'\n",
        "    params = {\n",
        "        'address': address,\n",
        "        'key': api_key\n",
        "    }\n",
        "    response = requests.get(url, params=params)\n",
        "    if response.status_code == 200:\n",
        "        results = response.json().get('results')\n",
        "        if results:\n",
        "            location = results[0]['geometry']['location']\n",
        "            return location['lat'], location['lng']\n",
        "        else:\n",
        "            print(\"No results found for the given city name.\")\n",
        "            return None\n",
        "    else:\n",
        "        print(f\"Error: {response.status_code}\")\n",
        "        return None\n",
        "\n",
        "summit_trek_coords = \\\n",
        "get_coordinates_from_address('348 Springfield Ave, Summit, NJ 07901', gmaps.key)\n",
        "\n",
        "# Search for places nearby\n",
        "# TODO: reduce search radius to 10k\n",
        "nearby_bike_stores = gmaps.places_nearby(location=summit_trek_coords, \\\n",
        "                                         keyword= 'bike store',radius=20000, \\\n",
        "                                         type='bicycle_store')\n",
        "# Get results as a list of dicts\n",
        "results = nearby_bike_stores['results']\n",
        "\n",
        "# Perform list comprehension to extract keys of interest\n",
        "keys_of_interest = ['name', 'rating', 'user_ratings_total', 'geometry']\n",
        "stores_df = pd.DataFrame(results)\n",
        "stores_df\n",
        "\n",
        "# Get coords of competing stores\n",
        "coords_competition = pd.DataFrame()\n",
        "coords_competition['Name'] = stores_df['name']\n",
        "coords_competition['Latitude'] = stores_df['geometry'].apply(lambda x: x['location']['lat'])\n",
        "coords_competition['Longitude'] = stores_df['geometry'].apply(lambda x: x['location']['lng'])\n",
        "coords_competition['Rating'] = stores_df['rating']\n",
        "coords_competition['Number of Ratings'] = stores_df['user_ratings_total']\n",
        "coords_competition\n",
        "\n",
        "coords_competition.dropna(\n",
        "    axis=0,\n",
        "    how='any',\n",
        "    subset=None,\n",
        "    inplace=True\n",
        ")\n",
        "\n",
        "color_scale = [(0, 'orange'), (1,'red')]\n",
        "\n",
        "fig = px.scatter_mapbox(coords_competition,\n",
        "                        lat=\"Latitude\",\n",
        "                        lon=\"Longitude\",\n",
        "                        hover_name=\"Name\",\n",
        "                        hover_data=[\"Name\", \"Rating\"],\n",
        "                        color=\"Rating\",\n",
        "                        color_continuous_scale=color_scale,\n",
        "                        size=\"Number of Ratings\",\n",
        "                        zoom=8,\n",
        "                        height=800,\n",
        "                        width=800)\n",
        "\n",
        "fig.update_layout(mapbox_style=\"open-street-map\")\n",
        "fig.update_layout(margin={\"r\":0,\"t\":0,\"l\":0,\"b\":0})\n",
        "fig.show()\n",
        "plotly.io.write_html(fig, \"competition_map.html\")\n"
      ]
    },
    {
      "cell_type": "code",
      "source": [],
      "metadata": {
        "id": "_E7dtyYiQiA6"
      },
      "execution_count": null,
      "outputs": []
    }
  ]
}